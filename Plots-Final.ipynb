{
 "cells": [
  {
   "cell_type": "markdown",
   "metadata": {
    "run_control": {
     "frozen": false,
     "read_only": false
    }
   },
   "source": [
    "# Init"
   ]
  },
  {
   "cell_type": "markdown",
   "metadata": {},
   "source": [
    "## Import"
   ]
  },
  {
   "cell_type": "code",
   "execution_count": null,
   "metadata": {
    "ExecuteTime": {
     "end_time": "2017-03-31T23:36:31.865642",
     "start_time": "2017-03-31T23:36:30.120829"
    },
    "init_cell": true,
    "run_control": {
     "frozen": false,
     "read_only": false
    },
    "scrolled": false
   },
   "outputs": [],
   "source": [
    "import seaborn as sns\n",
    "import amplitudes\n",
    "import generate_plots as gp\n",
    "import matplotlib.pylab as plt\n",
    "from collections import OrderedDict\n",
    "import copy\n",
    "\n",
    "import scipy.interpolate as itp\n",
    "import scipy.optimize as opt\n",
    "import matplotlib.patches as patches\n",
    "\n",
    "from io import StringIO\n",
    "import pandas as pd\n",
    "import numpy as np\n",
    "\n",
    "# import fine_tuning\n",
    "\n",
    "# import myCollections.non_linear_fit2 as nlf\n",
    "\n",
    "import re\n",
    "\n",
    "from sympy import S\n",
    "from sympy.solvers import solve\n",
    "\n",
    "# reload(gp)\n",
    "# reload(amplitudes)\n",
    "\n",
    "# sns.set(font=\"Source Sans Pro\", style=\"whitegrid\", font_scale=1.8)\n",
    "sns.set(font=\"Source Sans Pro\", style=\"ticks\", font_scale=1.4)\n",
    "sns.set_style({\"xtick.direction\": \"in\", \"ytick.direction\": \"in\"})\n",
    "\n",
    "import logging"
   ]
  },
  {
   "cell_type": "markdown",
   "metadata": {},
   "source": [
    "## Defs"
   ]
  },
  {
   "cell_type": "code",
   "execution_count": null,
   "metadata": {
    "ExecuteTime": {
     "end_time": "2017-03-31T23:36:31.875041",
     "start_time": "2017-03-31T23:36:31.867554"
    },
    "init_cell": true,
    "run_control": {
     "frozen": false,
     "read_only": false
    }
   },
   "outputs": [],
   "source": [
    "logger = logging.getLogger(\"generate_plots\")\n",
    "logger.setLevel(logging.WARNING)\n",
    "\n",
    "a4_width = 8.3 * 0.9 * 1.5\n",
    "tex_nuc = {\n",
    "    \"deut\": \"$^2H$\",\n",
    "    \"h3\": \"$^3H$\",\n",
    "    \"he3\": \"$^3He$\",\n",
    "}"
   ]
  },
  {
   "cell_type": "markdown",
   "metadata": {},
   "source": [
    "# Regular Plots"
   ]
  },
  {
   "cell_type": "markdown",
   "metadata": {},
   "source": [
    "## Setup"
   ]
  },
  {
   "cell_type": "code",
   "execution_count": null,
   "metadata": {
    "ExecuteTime": {
     "end_time": "2017-02-27T15:19:43.246410",
     "start_time": "2017-02-27T15:19:43.198685"
    },
    "run_control": {
     "frozen": false,
     "read_only": false
    }
   },
   "outputs": [],
   "source": [
    "pars = gp.parameters(normalized=True, self_normalized=True, isoscalar_only=True)\n",
    "\n",
    "# Eliminiate iv contributions\n",
    "for key, val in pars.facts.items():\n",
    "    pars.facts[key] = val.subs({\"delta_mN\": 0})\n",
    "    print(key)\n",
    "    display(pars.facts[key])\n",
    "\n",
    "nucleons = [\"deut\", \"h3\", \"he3\"]\n",
    "nucleons = [\"deut\", \"he3\"]\n",
    "\n",
    "amps = {}\n",
    "labels = {}\n",
    "cont = {}\n",
    "ops = {}"
   ]
  },
  {
   "cell_type": "code",
   "execution_count": null,
   "metadata": {
    "ExecuteTime": {
     "end_time": "2017-02-27T15:19:48.495401",
     "start_time": "2017-02-27T15:19:44.388891"
    },
    "run_control": {
     "frozen": false,
     "read_only": false
    },
    "scrolled": false
   },
   "outputs": [],
   "source": [
    "for nucleon in nucleons:\n",
    "    ops[nucleon] = operators = gp.get_operators(nucleon, parameters=pars)\n",
    "    ams = gp.get_amplitudes(operators, parameters=pars)\n",
    "\n",
    "    amps[nucleon] = list(\n",
    "        ams.query(\"sm == 'q' and (type == 'amp' or type == '2B' or type=='1B') \")[\"val\"]\n",
    "    )\n",
    "    labels[nucleon] = list(\n",
    "        ams.query(\"sm == 'q' and (type == 'amp' or type == '2B' or type=='1B') \")[\n",
    "            \"label\"\n",
    "        ]\n",
    "    )\n",
    "    # amps[nucleon]   = list(ams.query(\"sm == 'g' and (type == 'amp' or type == 'NLO') \")[\"val\"])\n",
    "    # labels[nucleon] = list(ams.query(\"sm == 'g' and (type == 'amp' or type == 'NLO') \")[\"label\"])\n",
    "    cont[nucleon] = amplitudes.OperatorPlotContainer(\n",
    "        amps[nucleon], estimate_type=2\n",
    "    )  # , modify_Q=1.)"
   ]
  },
  {
   "cell_type": "markdown",
   "metadata": {
    "heading_collapsed": true
   },
   "source": [
    "## Fitting Helm Form Factors"
   ]
  },
  {
   "cell_type": "code",
   "execution_count": null,
   "metadata": {
    "ExecuteTime": {
     "end_time": "2017-02-17T15:39:08.494105",
     "start_time": "2017-02-17T15:39:08.488652"
    },
    "hidden": true,
    "run_control": {
     "frozen": false,
     "read_only": false
    }
   },
   "outputs": [],
   "source": [
    "fit_waves = {\n",
    "    \"he3\": \"ich-n4lo-cut=2-no3nf-E=search-cdep-empot\",\n",
    "    \"deut\": \"ich-n4lo-cut=2+empot\",\n",
    "    \"h3\": \"ich-n4lo-cut=2-no3nf-E=search-cdep-empot\",\n",
    "}\n",
    "\n",
    "A = {\n",
    "    \"he3\": 3,\n",
    "    \"h3\": 3,\n",
    "    \"deut\": 2,\n",
    "}\n",
    "\n",
    "hbarc = amplitudes.phys_consts.hbarc.MeV"
   ]
  },
  {
   "cell_type": "code",
   "execution_count": null,
   "metadata": {
    "ExecuteTime": {
     "end_time": "2017-02-17T15:39:09.171071",
     "start_time": "2017-02-17T15:39:08.880253"
    },
    "hidden": true,
    "run_control": {
     "frozen": false,
     "read_only": false
    }
   },
   "outputs": [],
   "source": [
    "pars = {}\n",
    "perr = {}\n",
    "chi = {}\n",
    "HFF = {}\n",
    "\n",
    "for nucleon in amps.keys():\n",
    "\n",
    "    wave_query = fit_waves[nucleon]\n",
    "    c = cont[nucleon]\n",
    "\n",
    "    wave_data = c.chiral_estimates[0].query(\"Order=='n2lo' and Cutoff == 'c2'\")\n",
    "    data = wave_data[\"amp\"].values\n",
    "    qMeV = wave_data[\"q\"].values\n",
    "    sigma = wave_data[\"d_amp\"].values\n",
    "\n",
    "    q = qMeV / hbarc\n",
    "\n",
    "    def get_HFF(qin, a, s):\n",
    "        hff = amplitudes.HelmFormFactor(A=A[nucleon], a=a, s=s)\n",
    "        return hff.amp(qin) ** 2\n",
    "\n",
    "    pars[nucleon], pcov = opt.curve_fit(\n",
    "        get_HFF, q, data, p0=[0.5, 0.9], bounds=[(0.0, 0.1), (2.0, 1.5)], sigma=sigma\n",
    "    )\n",
    "    perr[nucleon] = np.sqrt(np.diag(pcov))\n",
    "\n",
    "    print(nucleon, pars[nucleon], perr[nucleon])\n",
    "\n",
    "    HFF[nucleon] = amplitudes.HelmFormFactor(\n",
    "        A=A[nucleon], a=pars[nucleon][0], s=pars[nucleon][1]\n",
    "    )\n",
    "\n",
    "    plt.plot(qMeV, data, \"o\", label=\"AV18\" + nucleon)\n",
    "\n",
    "    q_itp = np.linspace(q.min(), q.max(), 100)\n",
    "\n",
    "    plt.plot(q_itp * hbarc, HFF[nucleon].amp(q_itp) ** 2, \"-\", label=\"HFF\" + nucleon)\n",
    "\n",
    "    plt.legend()\n",
    "\n",
    "plt.show()\n",
    "\n",
    "chi"
   ]
  },
  {
   "cell_type": "raw",
   "metadata": {
    "ExecuteTime": {
     "end_time": "2017-02-15T14:39:02.848696",
     "start_time": "2017-02-15T14:39:02.843439"
    },
    "hidden": true
   },
   "source": [
    "9.94504950035e-05 [ 0.42758013  0.99930784]\n",
    "1.66279019221e-05 [ 0.39043438  0.98852411]"
   ]
  },
  {
   "cell_type": "markdown",
   "metadata": {},
   "source": [
    "## Get Tables"
   ]
  },
  {
   "cell_type": "markdown",
   "metadata": {
    "ExecuteTime": {
     "end_time": "2017-02-09T09:51:24.506715",
     "start_time": "2017-02-09T09:51:24.503214"
    }
   },
   "source": [
    "### Delta_X"
   ]
  },
  {
   "cell_type": "code",
   "execution_count": null,
   "metadata": {
    "ExecuteTime": {
     "end_time": "2017-02-09T14:59:16.082980",
     "start_time": "2017-02-09T14:59:16.079585"
    },
    "run_control": {
     "frozen": false,
     "read_only": false
    }
   },
   "outputs": [],
   "source": [
    "nucleon = \"deut\""
   ]
  },
  {
   "cell_type": "code",
   "execution_count": null,
   "metadata": {
    "ExecuteTime": {
     "end_time": "2017-02-09T14:59:22.215318",
     "start_time": "2017-02-09T14:59:22.175564"
    },
    "run_control": {
     "frozen": false,
     "read_only": false
    }
   },
   "outputs": [],
   "source": [
    "op = ops[nucleon][\"scalar\"]\n",
    "\n",
    "f = op.frame.query(\"q == 0 and xi==0\").drop([\"xi\", \"mxi\"], axis=1)\n",
    "f = op.get_chiral_frame(frame=f, tex=False).rename(columns={\"mat\": \"amp\"})\n",
    "f = f[[u\"q\", u\"amp\", u\"Cutoff\", u\"Order\"]]\n",
    "\n",
    "\n",
    "zero = f.set_index([\"Order\", \"Cutoff\"]).drop(\"q\", axis=1)\n",
    "zero = zero.to_dict(\"index\")"
   ]
  },
  {
   "cell_type": "code",
   "execution_count": null,
   "metadata": {
    "ExecuteTime": {
     "end_time": "2017-02-09T15:00:11.902352",
     "start_time": "2017-02-09T15:00:11.576887"
    },
    "run_control": {
     "frozen": false,
     "read_only": false
    }
   },
   "outputs": [],
   "source": [
    "op = ops[nucleon][\"2-pion-q\"]\n",
    "\n",
    "f = op.frame.query(\"q == 0 and xi==0\").drop([\"xi\", \"mxi\"], axis=1)\n",
    "f = op.get_chiral_frame(frame=f, tex=False).rename(columns={\"mat\": \"amp\"})\n",
    "f = f[[u\"q\", u\"amp\", u\"Cutoff\", u\"Order\"]]\n",
    "\n",
    "# normalize\n",
    "f.loc[:, \"amp\"] = f.apply(\n",
    "    lambda row: row[\"amp\"] / zero[(row[\"Order\"], row[\"Cutoff\"])][\"amp\"], axis=1\n",
    ")\n",
    "\n",
    "est = amplitudes.ChiralErrorEstimate(f, modify_Q=1.0)"
   ]
  },
  {
   "cell_type": "code",
   "execution_count": null,
   "metadata": {
    "ExecuteTime": {
     "end_time": "2017-02-09T15:00:12.788526",
     "start_time": "2017-02-09T15:00:12.754316"
    },
    "run_control": {
     "frozen": false,
     "read_only": false
    }
   },
   "outputs": [],
   "source": [
    "c = cont[nucleon] \n",
    "f = c.delta_X[1]\n",
    "f = est.del_x_frame    \n",
    "\n",
    "print(labels[\"deut\"][1])\n",
    "\n",
    "f = f.query(\"q == 0\")\n",
    "f.loc[:,\"label\"] = f.apply(\n",
    "    lambda rows: str(int(rows[\"nu1\"])) + \"-\" +  str(int(rows[\"nu2\"])), \n",
    "    axis=1\n",
    ")\n",
    "\n",
    "f1 = f.copy()\n",
    "f2 = f.copy()\n",
    "f1.loc[:,\"Q\"] = f.loc[:,\"delta_X\"]\n",
    "f2.loc[:,\"Q\"] = 0\n",
    "f3 = pd.concat([f1,f2]*10)"
   ]
  },
  {
   "cell_type": "code",
   "execution_count": null,
   "metadata": {
    "ExecuteTime": {
     "end_time": "2017-02-09T15:00:15.953152",
     "start_time": "2017-02-09T15:00:13.984248"
    },
    "run_control": {
     "frozen": false,
     "read_only": false
    }
   },
   "outputs": [],
   "source": [
    "fig, ax = plt.subplots(figsize=(10, 6), dpi=500)\n",
    "\n",
    "sns.boxplot(\n",
    "    x=\"label\",\n",
    "    y=\"Q\",\n",
    "    hue=\"cutoff\",\n",
    "    data=f3,\n",
    "    orient=\"v\",\n",
    "    linewidth=0.1,\n",
    ")\n",
    "\n",
    "plt.ylabel(r\"$\\Delta X^{(\\nu_1 , \\nu_2)}(3Q_0)$\")\n",
    "plt.xlabel(r\"$\\nu_1 - \\nu_2$\")\n",
    "\n",
    "# plt.title(labels[\"deut\"][1] + \"  at  $ q = 0 \\mathrm{ MeV}$\\n\")\n",
    "# plt.title(\"Deut 2$\\pi$ OP at $q=0$ MeV\")\n",
    "\n",
    "plt.legend(loc=\"best\", frameon=True)\n",
    "\n",
    "ax.set_yscale(\"log\")\n",
    "\n",
    "plt.show()"
   ]
  },
  {
   "cell_type": "code",
   "execution_count": null,
   "metadata": {
    "ExecuteTime": {
     "end_time": "2017-02-09T15:00:23.702639",
     "start_time": "2017-02-09T15:00:22.209029"
    },
    "run_control": {
     "frozen": false,
     "read_only": false
    }
   },
   "outputs": [],
   "source": [
    "fig.savefig(\"delta_X_op_2pi.pdf\", bbox_inches=\"tight\")"
   ]
  },
  {
   "cell_type": "markdown",
   "metadata": {},
   "source": [
    "### Values"
   ]
  },
  {
   "cell_type": "markdown",
   "metadata": {
    "heading_collapsed": true
   },
   "source": [
    "#### Regular"
   ]
  },
  {
   "cell_type": "code",
   "execution_count": null,
   "metadata": {
    "ExecuteTime": {
     "end_time": "2017-02-10T10:55:39.227897",
     "start_time": "2017-02-10T10:55:39.219378"
    },
    "hidden": true,
    "run_control": {
     "frozen": false,
     "read_only": false
    }
   },
   "outputs": [],
   "source": [
    "def get_phen_wave_name(wave):\n",
    "    if wave == \"av18-empot-no3nf-E=search-cdep-j12max=6\":\n",
    "        return \"AV18\", \"no TNF\"\n",
    "    elif wave == \"av18+empot\":\n",
    "        return \"AV18\", \"no TNF\"\n",
    "    elif wave == \"av18-empot-urbanaIXp16n5-E=search-cdep-j12max=6\":\n",
    "        return \"AV18\", \"TNF\"\n",
    "    elif wave == \"cdb+empot\":\n",
    "        return \"CDB\", \"no TNF\"\n",
    "    elif wave == \"cdb-empot-no3nf-E=search-cdep-j12max=6\":\n",
    "        return \"CDB\", \"no TNF\"\n",
    "    elif wave == \"cdb-empot-tm99l4469p16n5-cdb2000-E=search-cdep-j12max=6\":\n",
    "        return \"CDB\", \"TNF\"\n",
    "    elif wave == \"nijm93-noempot\":\n",
    "        return \"NIJM\", \"no TNF\"\n",
    "    else:\n",
    "        print(wave)"
   ]
  },
  {
   "cell_type": "code",
   "execution_count": null,
   "metadata": {
    "ExecuteTime": {
     "end_time": "2017-02-10T10:55:39.766789",
     "start_time": "2017-02-10T10:55:39.763493"
    },
    "hidden": true,
    "run_control": {
     "frozen": false,
     "read_only": false
    }
   },
   "outputs": [],
   "source": [
    "amp_title = r\"$ \\left\\langle \\psi | \\hat{J_q^{NN}} (q \\vec{e}_z) | \\psi \\right\\rangle $\""
   ]
  },
  {
   "cell_type": "code",
   "execution_count": null,
   "metadata": {
    "ExecuteTime": {
     "end_time": "2017-02-10T10:55:40.140400",
     "start_time": "2017-02-10T10:55:40.129847"
    },
    "hidden": true,
    "run_control": {
     "frozen": false,
     "read_only": false
    }
   },
   "outputs": [],
   "source": [
    "order_pattern = {\n",
    "    \"-lo-\": r\"LO   \",\n",
    "    \"-nlo-\": r\"NLO\",\n",
    "    \"-n2lo-\": r\"N$^2$LO\",\n",
    "    \"-n3lo-\": r\"N$^3$LO\",\n",
    "    \"-n4lo-\": r\"N$^4$LO\",\n",
    "}\n",
    "\n",
    "\n",
    "def wave2tex(row):\n",
    "    wave = row[\"wave\"]\n",
    "    # is chiral\n",
    "    if re.findall(\"^ich\", wave):\n",
    "        order = order_pattern[re.findall(\"-[n1-9]*lo-\", wave)[0]]\n",
    "        cutoff = \"$\\Lambda_\" + re.findall(\"-cut=([1-9])+\", wave)[0] + \"$\"\n",
    "        return \"$\\chi$ \" + order, cutoff\n",
    "    else:\n",
    "        return get_phen_wave_name(wave)"
   ]
  },
  {
   "cell_type": "code",
   "execution_count": null,
   "metadata": {
    "ExecuteTime": {
     "end_time": "2017-02-10T10:55:45.213096",
     "start_time": "2017-02-10T10:55:45.129515"
    },
    "hidden": true,
    "run_control": {
     "frozen": false,
     "read_only": false
    },
    "scrolled": false
   },
   "outputs": [],
   "source": [
    "frames = []\n",
    "\n",
    "for nucleon in nucleons:\n",
    "    op = ops[nucleon][\"scalar\"]\n",
    "    f = (\n",
    "        op.frame.query(\"q == 0 and xi==0\")\n",
    "        .drop([\"xi\", \"mxi\", \"q\"], axis=1)\n",
    "        .set_index(\"wave\")\n",
    "    )\n",
    "    f.sort_index(inplace=True)\n",
    "    norm = f.values.flatten()\n",
    "\n",
    "    title = tex_nuc[nucleon]  # +\" \"+  r\"$\\left\\langle \\mathcal{O} \\right\\rangle$\"\n",
    "    op = ops[nucleon][\"2-pion-q\"]\n",
    "    f = (\n",
    "        op.frame.query(\"q == 0 and xi==0\")\n",
    "        .drop([\"xi\", \"mxi\", \"q\"], axis=1)\n",
    "        .set_index(\"wave\")\n",
    "    )\n",
    "    f.sort_index(inplace=True)\n",
    "    f.loc[:, title] = f.loc[:, \"mat\"] / norm\n",
    "    f.reset_index(inplace=True)\n",
    "\n",
    "    wave = np.array(list(map(list, f.apply(wave2tex, axis=1).values)))\n",
    "    f[\"Wave\"] = wave.T[0]\n",
    "    f[\"Detail\"] = wave.T[1]\n",
    "\n",
    "    f.set_index([\"Wave\", \"Detail\"], inplace=True)\n",
    "    f.drop([\"wave\", \"mat\"], inplace=True, axis=1)\n",
    "\n",
    "    frames.append(f)\n",
    "\n",
    "table = pd.concat(frames, axis=1)\n",
    "table.sort_index(inplace=True)\n",
    "print(\n",
    "    table.to_latex(\n",
    "        na_rep=\"/\",\n",
    "        float_format=\"%1.2e\",\n",
    "        escape=False,\n",
    "        col_space=8,\n",
    "        # header=False\n",
    "    )\n",
    ")"
   ]
  },
  {
   "cell_type": "markdown",
   "metadata": {
    "ExecuteTime": {
     "end_time": "2017-02-10T10:56:09.727963",
     "start_time": "2017-02-10T10:56:09.724617"
    }
   },
   "source": [
    "## 2B - D Prob"
   ]
  },
  {
   "cell_type": "code",
   "execution_count": null,
   "metadata": {
    "ExecuteTime": {
     "end_time": "2017-02-27T15:47:06.093054",
     "start_time": "2017-02-27T15:47:06.077494"
    },
    "run_control": {
     "frozen": false,
     "read_only": false
    }
   },
   "outputs": [],
   "source": [
    "texstr = r\"\"\"\n",
    "NN interaction &     h2 &     h3 &    he3 \n",
    "\\hline\\hline\n",
    "AV18 + Urb IXF          &         / &  2.62e-03 &  2.52e-03 \n",
    "AV18                    &  1.58e-02 &  2.62e-03 &  2.83e-03 \n",
    "CD-Bonn + TM            &         / &  1.38e-03 &  1.51e-03 \n",
    "CD-Bonn                 &  1.17e-02 &  1.47e-03 &  1.62e-03 \n",
    "NIJM                    &  1.57e-02 &         / &         / \n",
    "\\hline\n",
    "$Q^{0}$   $\\Lambda_{1}$ &  2.28e-03 & -1.46e-03 & -1.45e-03 \n",
    "$Q^{0}$   $\\Lambda_{2}$ & -5.95e-04 & -1.77e-03 & -1.77e-03 \n",
    "$Q^{0}$   $\\Lambda_{3}$ & -2.66e-03 & -2.01e-03 & -2.02e-03 \n",
    "$Q^{0}$   $\\Lambda_{4}$ & -4.12e-03 & -2.20e-03 & -2.22e-03 \n",
    "$Q^{0}$   $\\Lambda_{5}$ & -5.13e-03 & -2.36e-03 & -2.38e-03 \n",
    "\\hline \n",
    "$Q^{2}$   $\\Lambda_{1}$ &  1.17e-02 &  1.48e-03 &  1.62e-03 \n",
    "$Q^{2}$   $\\Lambda_{2}$ &  8.80e-03 &  7.08e-04 &  8.18e-04 \n",
    "$Q^{2}$   $\\Lambda_{3}$ &  6.09e-03 &  2.72e-05 &  1.08e-04 \n",
    "$Q^{2}$   $\\Lambda_{4}$ &  3.70e-03 & -5.47e-04 & -4.91e-04 \n",
    "$Q^{2}$   $\\Lambda_{5}$ &  1.65e-03 & -1.01e-03 & -9.78e-04 \n",
    "\\hline \n",
    "$Q^{3}$   $\\Lambda_{1}$ &  1.10e-02 &  1.37e-03 &  1.51e-03 \n",
    "$Q^{3}$   $\\Lambda_{2}$ &  8.59e-03 &  7.25e-04 &  8.39e-04 \n",
    "$Q^{3}$   $\\Lambda_{3}$ &  6.17e-03 &  1.06e-04 &  1.93e-04 \n",
    "$Q^{3}$   $\\Lambda_{4}$ &  3.97e-03 & -4.39e-04 & -3.75e-04 \n",
    "$Q^{3}$   $\\Lambda_{5}$ &  2.04e-03 & -8.98e-04 & -8.55e-04 \n",
    "\\hline \n",
    "$Q^{4}$   $\\Lambda_{1}$ &  7.31e-03 &  7.54e-04 &  8.61e-04 \n",
    "$Q^{4}$   $\\Lambda_{2}$ &  1.09e-02 &  1.66e-03 &  1.81e-03 \n",
    "$Q^{4}$   $\\Lambda_{3}$ &  1.29e-02 &  2.21e-03 &  2.38e-03 \n",
    "$Q^{4}$   $\\Lambda_{4}$ &  1.37e-02 &  2.44e-03 &  2.62e-03 \n",
    "$Q^{4}$   $\\Lambda_{5}$ &  1.38e-02 &  2.50e-03 &  2.69e-03 \n",
    "\\hline \n",
    "$Q^{5}$   $\\Lambda_{1}$ &  1.06e-02 &  1.62e-03 &  1.77e-03 \n",
    "$Q^{5}$   $\\Lambda_{2}$ &  1.13e-02 &  1.77e-03 &  1.92e-03 \n",
    "$Q^{5}$   $\\Lambda_{3}$ &  1.18e-02 &  1.91e-03 &  2.07e-03 \n",
    "$Q^{5}$   $\\Lambda_{4}$ &  1.25e-02 &  2.10e-03 &  2.27e-03 \n",
    "$Q^{5}$   $\\Lambda_{5}$ &  1.27e-02 &  2.20e-03 &  2.38e-03 \n",
    "\"\"\"\n",
    "\n",
    "repl = {\n",
    "    \" \": \"\",\n",
    "    r\"[${}]\": \"\",\n",
    "}\n",
    "\n",
    "\n",
    "for pattern, subs in repl.items():\n",
    "    texstr = re.sub(pattern, subs, texstr)\n",
    "\n",
    "fle = StringIO(texstr)\n",
    "\n",
    "\n",
    "op_frame = pd.read_csv(fle, sep=r\"&\").dropna().set_index(u\"NNinteraction\")\n",
    "\n",
    "\n",
    "# op_frame"
   ]
  },
  {
   "cell_type": "code",
   "execution_count": null,
   "metadata": {
    "ExecuteTime": {
     "end_time": "2017-02-27T15:47:07.436479",
     "start_time": "2017-02-27T15:47:07.228961"
    },
    "run_control": {
     "frozen": false,
     "read_only": false
    }
   },
   "outputs": [],
   "source": [
    "texstr = r\"\"\"\n",
    "NN interaction           & $E_{d}$ & $\\langle T \\rangle $ &$\\langle V \\rangle$& $r_{d}$ &   $Q_{d}$ & $ P_{D} $ & $A_{S}$  & $\\eta$\n",
    "\\hline \\hline\n",
    "AV18                         & -2.225    &  19.81                      &  -22.04                  &   1.967  &      0.270 &        5.76   & 0.884       &  0.0252   \n",
    "CD-Bonn                   & -2.223    &  15.60                      & -17.83                   &   1.966  &      0.270 &        4.85   & 0.884       &  0.0258 \n",
    "\\hline\n",
    "$Q^{0}$   $\\Lambda_{1}$  & -1.989   & 14.26   &  -16.25   &   1.997   &   0.245   &    3.27     &     0.825    &    0.0219    \n",
    "$Q^{0}$   $\\Lambda_{2}$  & -2.023   & 13.29   &  -15.32   &   1.990   &   0.230   &    2.54     &     0.833    &    0.0212    \n",
    "$Q^{0}$   $\\Lambda_{3}$  & -2.083   & 12.47   &  -14.55   &   1.979   &   0.215   &    1.97     &     0.849    &    0.0205    \n",
    "$Q^{0}$   $\\Lambda_{4}$  & -2.167   & 11.76   &  -13.92   &   1.965   &   0.199   &    1.53     &     0.870    &    0.0198    \n",
    "$Q^{0}$   $\\Lambda_{5}$  & -2.272   & 11.15   &  -13.42   &   1.950   &   0.183   &    1.18     &     0.897    &    0.0192    \n",
    "\\hline \n",
    "$Q^{2}$   $\\Lambda_{1}$  & -2.191   & 15.40   &  -17.59   &   1.970   &   0.275   &    5.23     &     0.875    &    0.0256    \n",
    "$Q^{2}$   $\\Lambda_{2}$  & -2.199   & 14.25   &  -16.45   &   1.968   &   0.273   &    4.73     &     0.877    &    0.0256    \n",
    "$Q^{2}$   $\\Lambda_{3}$  & -2.206   & 13.49   &  -15.69   &   1.967   &   0.271   &    4.24     &     0.879    &    0.0257    \n",
    "$Q^{2}$   $\\Lambda_{4}$  & -2.211   & 12.92   &  -15.14   &   1.965   &   0.269   &    3.77     &     0.881    &    0.0258    \n",
    "$Q^{2}$   $\\Lambda_{5}$  & -2.213   & 12.48   &  -14.69   &   1.965   &   0.267   &    3.35     &     0.881    &    0.0259    \n",
    "\\hline \n",
    "$Q^{3}$   $\\Lambda_{1}$  & -2.228   & 14.94   &  -17.16   &   1.967   &   0.271   &    4.87     &     0.886    &    0.0254    \n",
    "$Q^{3}$   $\\Lambda_{2}$  & -2.231   & 13.85   &  -16.08   &   1.966   &   0.270   &    4.50     &     0.886    &    0.0256    \n",
    "$Q^{3}$   $\\Lambda_{3}$  & -2.235   & 13.17   &  -15.40   &   1.964   &   0.270   &    4.12     &     0.888    &    0.0258    \n",
    "$Q^{3}$   $\\Lambda_{4}$  & -2.237   & 12.69   &  -14.93   &   1.964   &   0.269   &    3.75     &     0.888    &    0.0260    \n",
    "$Q^{3}$   $\\Lambda_{5}$  & -2.235   & 12.32   &  -14.55   &   1.963   &   0.269   &    3.40     &     0.887    &    0.0263    \n",
    "\\hline \n",
    "$Q^{4}$   $\\Lambda_{1}$  & -2.223   & 23.33   &  -25.55   &   1.970   &   0.268   &    3.78     &     0.884    &    0.0255    \n",
    "$Q^{4}$   $\\Lambda_{2}$  & -2.223   & 21.58   &  -23.80   &   1.972   &   0.271   &    4.19     &     0.884    &    0.0255    \n",
    "$Q^{4}$   $\\Lambda_{3}$  & -2.223   & 19.63   &  -21.85   &   1.975   &   0.275   &    4.77     &     0.885    &    0.0256    \n",
    "$Q^{4}$   $\\Lambda_{4}$  & -2.223   & 17.71   &  -19.94   &   1.979   &   0.279   &    5.21     &     0.885    &    0.0256    \n",
    "$Q^{4}$   $\\Lambda_{5}$  & -2.223   & 16.13   &  -18.35   &   1.982   &   0.283   &    5.58     &     0.885    &    0.0256    \n",
    "\\hline \n",
    "$Q^{5}$   $\\Lambda_{1}$  & -2.223   & 20.64   &  -22.86   &   1.970   &   0.271   &    4.28     &     0.884    &    0.0256    \n",
    "$Q^{5}$   $\\Lambda_{2}$  & -2.223   & 18.89   &  -21.12   &   1.972   &   0.271   &    4.29     &     0.884    &    0.0256    \n",
    "$Q^{5}$   $\\Lambda_{3}$  & -2.223   & 17.48   &  -19.70   &   1.974   &   0.272   &    4.40     &     0.884    &    0.0255    \n",
    "$Q^{5}$   $\\Lambda_{4}$  & -2.223   & 16.29   &  -18.51   &   1.978   &   0.276   &    4.74     &     0.885    &    0.0256    \n",
    "$Q^{5}$   $\\Lambda_{5}$  & -2.223   & 15.27   &  -17.50   &   1.981   &   0.280   &    5.12     &     0.885    &    0.0256    \n",
    "\n",
    "\"\"\"\n",
    "\n",
    "for pattern, subs in repl.items():\n",
    "    texstr = re.sub(pattern, subs, texstr)\n",
    "\n",
    "fle = StringIO(texstr)\n",
    "\n",
    "\n",
    "d_frame = pd.read_csv(fle, sep=r\"&\").dropna().set_index(u\"NNinteraction\")\n",
    "\n",
    "nf_d = pd.concat([op_frame, d_frame], axis=1)[[\"h2\", \"P_D\"]].dropna()\n",
    "\n",
    "nf_d.loc[:, \"psi\"] = \"$^2H$\"\n",
    "nf_d.reset_index(inplace=True)\n",
    "nf_d.columns = [u\"wave\", u\"O\", u\"PD\", u\"psi\"]\n",
    "# nf_d"
   ]
  },
  {
   "cell_type": "code",
   "execution_count": null,
   "metadata": {
    "ExecuteTime": {
     "end_time": "2017-02-27T15:47:09.520287",
     "start_time": "2017-02-27T15:47:09.331902"
    },
    "run_control": {
     "frozen": false,
     "read_only": false
    }
   },
   "outputs": [],
   "source": [
    "texstr = r\"\"\"\n",
    "NN interaction           & $E(^{3}{\\rm He})$ & $\\langle T \\rangle $ &$\\langle V \\rangle$& $r_{p}$ & $r_{n}$ &  $r_{NN}$ &   $P_{S}$ & $ P_{P} $ & $ P_{D} $  & $ \\langle \\Psi  |   \\Psi \\rangle $ \n",
    "\\hline \\hline\n",
    "AV18                                  & -6.922  & 45.67   &  -52.59 &  1.871  &    1.677    &  3.127      &      91.47       &    0.065     &   8.465 &  0.998752 \n",
    "AV18 + Urb IX                    &  -7.754  & 50.21   &  -57.97 &  1.770  &    1.601    &  2.966     &      90.63       &    0.131     &   9.241 &  0.998956 \n",
    "CD-Bonn                            &  -7.264  & 36.77   &  -44.03 &  1.819   &   1.637    &  3.047     &      92.95       &    0.046     &   7.000 &  0.999505  \n",
    "CD-Bonn + TM                   & -7.729   & 38.53  &  -46.26  &  1.767   &   1.598    &  2.964     &      92.41       &    0.090     &   7.498 &  0.999589  \n",
    "\\hline\n",
    "$Q^{0}$   $\\Lambda_{1}$  & -11.22   & 54.29   &  -65.51   & 1.327  &    1.258   &   2.259     &       95.31     &     0.031    &    4.659 & 0.999959  \n",
    "$Q^{0}$   $\\Lambda_{2}$  & -10.92   & 48.71   &  -59.63   & 1.367  &    1.289   &   2.324     &       96.65     &     0.015    &    3.333 & 0.999969  \n",
    "$Q^{0}$   $\\Lambda_{3}$  & -10.47   & 43.40   &  -53.87   & 1.424  &    1.334   &   2.416     &       97.58     &     0.008    &    2.410 & 0.999972  \n",
    "$Q^{0}$   $\\Lambda_{4}$  & -10.01   & 38.70   &  -48.70   & 1.489  &    1.388   &   2.522     &       98.23     &     0.004    &    1.763 & 0.999976  \n",
    "$Q^{0}$   $\\Lambda_{5}$  & -9.594   & 34.67   &  -44.27   & 1.558  &    1.444   &   2.634     &       98.69     &     0.002    &    1.304 & 0.999979  \n",
    "\\hline \n",
    "$Q^{2}$   $\\Lambda_{1}$  & -7.315   & 36.61   &  -43.92   & 1.805  &    1.626   &   3.025     &       92.19     &     0.057    &    7.755 & 0.999781  \n",
    "$Q^{2}$   $\\Lambda_{2}$  & -7.481   & 33.96   &  -41.44   & 1.784  &    1.610   &   2.992     &       93.06     &     0.046    &    6.890 & 0.999881  \n",
    "$Q^{2}$   $\\Lambda_{3}$  & -7.638   & 32.75   &  -40.38   & 1.764  &    1.595   &   2.960     &       93.94     &     0.037    &    6.025 & 0.999924  \n",
    "$Q^{2}$   $\\Lambda_{4}$  & -7.804   & 32.21   &  -40.01   & 1.744  &    1.579   &   2.927     &       94.76     &     0.029    &    5.210 & 0.999946  \n",
    "$Q^{2}$   $\\Lambda_{5}$  & -7.969   & 31.96   &  -39.93   & 1.723  &    1.563   &   2.895     &       95.51     &     0.022    &    4.466 & 0.999959  \n",
    "\\hline \n",
    "$Q^{3}$   $\\Lambda_{1}$  & -7.305   & 35.68   &  -42.99   & 1.821  &    1.639   &   3.050     &       92.99     &     0.045    &    6.966 & 0.999771  \n",
    "$Q^{3}$   $\\Lambda_{2}$  & -7.409   & 32.88   &  -40.29   & 1.806  &    1.628   &   3.027     &       93.61     &     0.039    &    6.357 & 0.999877  \n",
    "$Q^{3}$   $\\Lambda_{3}$  & -7.540   & 31.63   &  -39.17   & 1.788  &    1.614   &   2.999     &       94.26     &     0.032    &    5.713 & 0.999925  \n",
    "$Q^{3}$   $\\Lambda_{4}$  & -7.680   & 31.13   &  -38.81   & 1.769  &    1.599   &   2.969     &       94.90     &     0.027    &    5.078 & 0.999947  \n",
    "$Q^{3}$   $\\Lambda_{5}$  & -7.824   & 30.96   &  -38.79   & 1.749  &    1.584   &   2.937     &       95.51     &     0.022    &    4.470 & 0.999960  \n",
    "\\hline \n",
    "$Q^{4}$   $\\Lambda_{1}$  & -6.865   & 51.81   &  -58.67   & 1.884  &    1.691   &   3.148     &       94.79     &     0.027    &    5.189 & 0.998593  \n",
    "$Q^{4}$   $\\Lambda_{2}$  & -6.871   & 50.74   &  -57.61   & 1.890  &    1.697   &   3.159     &       94.07     &     0.032    &    5.897 & 0.998904  \n",
    "$Q^{4}$   $\\Lambda_{3}$  & -6.832   & 46.94   &  -53.77   & 1.901  &    1.707   &   3.180     &       93.12     &     0.041    &    6.842 & 0.999219  \n",
    "$Q^{4}$   $\\Lambda_{4}$  & -6.812   & 42.31   &  -49.13   & 1.910  &    1.716   &   3.196     &       92.43     &     0.048    &    7.524 & 0.999481  \n",
    "$Q^{4}$   $\\Lambda_{5}$  & -6.779   & 38.21   &  -44.99   & 1.921  &    1.725   &   3.215     &       91.89     &     0.053    &    8.052 & 0.999661  \n",
    "\\hline \n",
    "$Q^{5}$   $\\Lambda_{1}$  & -6.790   & 52.31   &  -59.10   & 1.898  &    1.701   &   3.170     &       93.96     &     0.033    &    6.005 & 0.998833  \n",
    "$Q^{5}$   $\\Lambda_{2}$  & -6.893   & 47.33   &  -54.22   & 1.886  &    1.693   &   3.154     &       93.92     &     0.033    &    6.046 & 0.999185  \n",
    "$Q^{5}$   $\\Lambda_{3}$  & -6.931   & 43.30   &  -50.23   & 1.885  &    1.695   &   3.155     &       93.71     &     0.035    &    6.255 & 0.999424  \n",
    "$Q^{5}$   $\\Lambda_{4}$  & -6.919   & 39.84   &  -46.76   & 1.893  &    1.702   &   3.169     &       93.17     &     0.040    &    6.786 & 0.999597  \n",
    "$Q^{5}$   $\\Lambda_{5}$  & -6.872   & 36.75   &  -43.62   & 1.906  &    1.714   &   3.192     &       92.60     &     0.046    &    7.351 & 0.999719  \n",
    "\\hline \\hline\n",
    "\"\"\"\n",
    "\n",
    "for pattern, subs in repl.items():\n",
    "    texstr = re.sub(pattern, subs, texstr)\n",
    "\n",
    "fle = StringIO(texstr)\n",
    "\n",
    "\n",
    "he_frame = pd.read_csv(fle, sep=r\"&\").dropna().set_index(u\"NNinteraction\")\n",
    "\n",
    "\n",
    "he_frame\n",
    "\n",
    "nf_he = pd.concat([op_frame, he_frame], axis=1)[[\"he3\", \"P_D\"]].dropna()\n",
    "\n",
    "nf_he.loc[:, \"psi\"] = \"$^3He$\"\n",
    "nf_he.reset_index(inplace=True)\n",
    "nf_he.columns = [u\"wave\", u\"O\", u\"PD\", u\"psi\"]\n",
    "nf_he\n",
    "cf = pd.concat([nf_d, nf_he], ignore_index=True)\n",
    "cf.O = np.array(cf.O.values, dtype=float)"
   ]
  },
  {
   "cell_type": "code",
   "execution_count": null,
   "metadata": {
    "ExecuteTime": {
     "end_time": "2017-02-27T15:47:14.518863",
     "start_time": "2017-02-27T15:47:14.503478"
    },
    "run_control": {
     "frozen": false,
     "read_only": false
    }
   },
   "outputs": [],
   "source": [
    "from scipy import stats\n",
    "\n",
    "c = cf.query(\"psi == '$^2H$'\")\n",
    "x = c[\"PD\"]\n",
    "y = c[\"O\"]\n",
    "\n",
    "slope, intercept, r_value, p_value, std_err = stats.linregress(x, y)\n",
    "\n",
    "print(slope, intercept, r_value, p_value, std_err)"
   ]
  },
  {
   "cell_type": "code",
   "execution_count": null,
   "metadata": {
    "ExecuteTime": {
     "end_time": "2017-02-27T15:47:15.601178",
     "start_time": "2017-02-27T15:47:15.572591"
    },
    "run_control": {
     "frozen": false,
     "read_only": false
    }
   },
   "outputs": [],
   "source": [
    "colors = OrderedDict()\n",
    "colors[\"pink\"] = u\"$\\\\chi$ LO\"\n",
    "colors[\"none\"] = u\"none\"\n",
    "colors[\"#FFEB8F\"] = u\"$\\\\chi$ NLO\"\n",
    "colors[\"#92D258\"] = u\"$\\\\chi$ N$^2$LO\"\n",
    "colors[\"#2A83FD\"] = u\"$\\\\chi$ N$^3$LO\"\n",
    "colors[\"#FB0007\"] = u\"$\\\\chi$ N$^4$LO\"\n",
    "colors[\"black\"] = u\"Phen\"\n",
    "\n",
    "\n",
    "def colormap(row):\n",
    "    w = row[\"wave\"]\n",
    "    if w.startswith(\"Q^\"):\n",
    "        color = [el for el in colors.keys()][int(w[2])]\n",
    "    else:\n",
    "        color = \"black\"\n",
    "    return color\n",
    "\n",
    "\n",
    "def markermap(row):\n",
    "    w = row[\"wave\"]\n",
    "    if w.startswith(\"Q^\"):\n",
    "        markerwidth = 5 + int(w[-1])\n",
    "    else:\n",
    "        markerwidth = 7\n",
    "    return markerwidth\n",
    "\n",
    "\n",
    "cf.loc[:, \"color\"] = cf.apply(colormap, axis=1)\n",
    "cf.loc[:, \"markerwidth\"] = cf.apply(markermap, axis=1)\n",
    "\n",
    "# cf"
   ]
  },
  {
   "cell_type": "code",
   "execution_count": null,
   "metadata": {
    "ExecuteTime": {
     "end_time": "2017-02-27T15:47:17.441003",
     "start_time": "2017-02-27T15:47:17.436973"
    },
    "run_control": {
     "frozen": false,
     "read_only": false
    }
   },
   "outputs": [],
   "source": [
    "sns.set(font=\"Source Sans Pro\", style=\"ticks\", font_scale=1.6)\n",
    "sns.set_style({\"xtick.direction\": \"in\", \"ytick.direction\": \"in\"})"
   ]
  },
  {
   "cell_type": "code",
   "execution_count": null,
   "metadata": {
    "ExecuteTime": {
     "end_time": "2017-02-27T15:49:19.036698",
     "start_time": "2017-02-27T15:49:18.353866"
    },
    "run_control": {
     "frozen": false,
     "read_only": false
    }
   },
   "outputs": [],
   "source": [
    "# nf.columns[0:2] = [\"$P_D$\", r\"$\\left\\langle \\mathcal{O} _{2\\pi} \\right\\rangle$\"]\n",
    "\n",
    "nf = cf.copy()  # .query(\"psi == '$^3He$'\")\n",
    "\n",
    "g = sns.jointplot(\"PD\", \"O\", data=nf)\n",
    "\n",
    "pearson = {\n",
    "    u\"$^2$H\": \"pearsonr = 0.96; p=4.9e-15\",\n",
    "    u\"$^3$He\": \"pearsonr = 0.92; p=8.2e-12\",\n",
    "}\n",
    "\n",
    "title = \"\"\n",
    "for key, val in pearson.items():\n",
    "    title += key + \": \" + val + \"\\n\"\n",
    "\n",
    "markers = {u\"$^2H$\": \"o\", u\"$^3He$\": \"s\"}\n",
    "\n",
    "labels = {\n",
    "    u\"$^2H$\": u\"$^2$H\",\n",
    "    u\"$^3He$\": u\"$^3$He\",\n",
    "}\n",
    "\n",
    "\n",
    "if 1:\n",
    "    g.ax_joint.cla()\n",
    "\n",
    "    for color in nf.color.unique():\n",
    "        g.ax_joint.fill_between([np.NAN], [np.NAN], color=color, label=colors[color])\n",
    "\n",
    "    for label in nf.psi.unique():\n",
    "        g.ax_joint.plot(\n",
    "            [np.NAN],\n",
    "            [np.NAN],\n",
    "            color=\"black\",\n",
    "            linestyle=\"none\",\n",
    "            marker=markers[label],\n",
    "            label=labels[label],\n",
    "        )\n",
    "\n",
    "    sns.regplot(\n",
    "        x=\"PD\",\n",
    "        y=\"O\",\n",
    "        data=cf.query(\"psi == '$^2H$'\"),\n",
    "        label=\"Fit $^2$H\",\n",
    "        scatter=False,\n",
    "        ax=g.ax_joint,\n",
    "    )\n",
    "\n",
    "    sns.regplot(\n",
    "        x=\"PD\",\n",
    "        y=\"O\",\n",
    "        data=cf.query(\"psi == '$^3He$'\"),\n",
    "        label=\"Fit $^3$He\",\n",
    "        scatter=False,\n",
    "        ax=g.ax_joint,\n",
    "        line_kws={\"linestyle\": \":\"},\n",
    "    )\n",
    "\n",
    "    handles, labels = g.ax_joint.get_legend_handles_labels()\n",
    "    by_label = OrderedDict(zip(labels, handles))\n",
    "\n",
    "    # Plot each individual point separately\n",
    "    for n_psi, psi in enumerate(nf.psi.unique()):\n",
    "        for n_wave, wave in enumerate(nf.wave.unique()):\n",
    "            tf = nf.query(\"psi == @psi and wave == @wave \")\n",
    "            for ind in tf.index:\n",
    "                wave, O, PD, psi, color, marerwidth = tf.loc[ind].values\n",
    "                g.ax_joint.plot(\n",
    "                    PD,\n",
    "                    O,\n",
    "                    linestyle=\"None\",\n",
    "                    color=color,\n",
    "                    marker=markers[psi],\n",
    "                    markersize=marerwidth,\n",
    "                )\n",
    "\n",
    "    g.ax_joint.legend(\n",
    "        by_label.values(),\n",
    "        by_label.keys(),\n",
    "        loc=\"upper left\",\n",
    "        bbox_to_anchor=(1.05, 1.08),\n",
    "    )"
   ]
  },
  {
   "cell_type": "code",
   "execution_count": null,
   "metadata": {
    "ExecuteTime": {
     "end_time": "2017-02-27T15:50:26.054041",
     "start_time": "2017-02-27T15:50:25.507992"
    },
    "run_control": {
     "frozen": false,
     "read_only": false
    }
   },
   "outputs": [],
   "source": [
    "g.fig.set_figwidth(5)\n",
    "g.fig.set_figheight(5)\n",
    "g.fig.set_dpi(500)\n",
    "\n",
    "g.ax_joint.xaxis.set_ticks_position(\"both\")\n",
    "g.ax_joint.yaxis.set_ticks_position(\"both\")\n",
    "\n",
    "# g.ax_marg_x.set_title(title)\n",
    "\n",
    "g.ax_joint.set_ylim([-0.006, 0.015])\n",
    "# g.ax_joint.set_yscale(\"log\")\n",
    "\n",
    "g.ax_marg_x.set_visible(False)\n",
    "g.ax_marg_y.set_visible(False)\n",
    "\n",
    "g.ax_joint.set_xlabel(\"$P_D$ in %\")\n",
    "g.ax_joint.set_ylabel(r\"$\\left\\langle \\hat {J}_{q^{(\\mathrm{is})},2b} \\right\\rangle$\")\n",
    "\n",
    "sns.despine(ax=g.ax_joint, top=False, right=False)\n",
    "\n",
    "g.fig"
   ]
  },
  {
   "cell_type": "code",
   "execution_count": null,
   "metadata": {
    "ExecuteTime": {
     "end_time": "2017-02-27T15:50:26.717526",
     "start_time": "2017-02-27T15:50:26.056528"
    },
    "run_control": {
     "frozen": false,
     "read_only": false
    }
   },
   "outputs": [],
   "source": [
    "g.savefig(\"D_wave_correlation.pdf\", bbox_inches=\"tight\")"
   ]
  },
  {
   "cell_type": "code",
   "execution_count": null,
   "metadata": {
    "ExecuteTime": {
     "end_time": "2017-02-17T16:25:14.281073",
     "start_time": "2017-02-17T16:25:14.270142"
    },
    "run_control": {
     "frozen": false,
     "read_only": false
    }
   },
   "outputs": [],
   "source": [
    "c = cf.query(\"psi == '$^2H$'\")\n",
    "x = c[\"PD\"]\n",
    "y = c[\"O\"]\n",
    "\n",
    "res = stats.linregress(x, y)\n",
    "\n",
    "for label, el in zip([\"slope\", \"intercept\", \"r_value\", \"p_value\", \"std_err\"], res):\n",
    "    print(label, \":{0:1.4e}\".format(el))"
   ]
  },
  {
   "cell_type": "code",
   "execution_count": null,
   "metadata": {
    "ExecuteTime": {
     "end_time": "2017-02-17T16:25:15.892026",
     "start_time": "2017-02-17T16:25:15.878284"
    },
    "run_control": {
     "frozen": false,
     "read_only": false
    }
   },
   "outputs": [],
   "source": [
    "c = cf.query(\"psi == '$^3He$'\")\n",
    "x = c[\"PD\"]\n",
    "y = c[\"O\"]\n",
    "\n",
    "res = stats.linregress(x, y)\n",
    "\n",
    "for label, el in zip([\"slope\", \"intercept\", \"r_value\", \"p_value\", \"std_err\"], res):\n",
    "    print(label, \":{0:1.4e}\".format(el))"
   ]
  },
  {
   "cell_type": "markdown",
   "metadata": {
    "heading_collapsed": true,
    "hidden": true
   },
   "source": [
    "### Form factors all orders"
   ]
  },
  {
   "cell_type": "markdown",
   "metadata": {},
   "source": [
    "#### 2H"
   ]
  },
  {
   "cell_type": "code",
   "execution_count": null,
   "metadata": {
    "ExecuteTime": {
     "end_time": "2017-02-15T13:57:35.251083",
     "start_time": "2017-02-15T13:57:31.368240"
    },
    "hidden": true,
    "run_control": {
     "frozen": false,
     "read_only": false
    }
   },
   "outputs": [],
   "source": [
    "a4_width = 8.3 * 0.9 * 1.5\n",
    "\n",
    "nucleon = \"deut\"\n",
    "\n",
    "fig = plt.figure(dpi=500, figsize=(a4_width, a4_width / 3.5 * 3))\n",
    "\n",
    "cont[nucleon].plot_q_dep(\n",
    "    fig,\n",
    ")  # ylabels=labels[nucleon], legend=True)\n",
    "\n",
    "\n",
    "plt.subplots_adjust(wspace=0.02, hspace=0.02 / 3.5 * 3)\n",
    "\n",
    "plt.show()\n",
    "\n",
    "# fig.savefig(\"err_deut.pdf\", bbox_inches=\"tight\")"
   ]
  },
  {
   "cell_type": "markdown",
   "metadata": {},
   "source": [
    "#### 3He"
   ]
  },
  {
   "cell_type": "code",
   "execution_count": null,
   "metadata": {
    "ExecuteTime": {
     "end_time": "2017-02-15T13:57:35.251083",
     "start_time": "2017-02-15T13:57:31.368240"
    },
    "hidden": true,
    "run_control": {
     "frozen": false,
     "read_only": false
    }
   },
   "outputs": [],
   "source": [
    "a4_width = 8.3 * 0.9 * 1.5\n",
    "\n",
    "nucleon = \"he3\"\n",
    "\n",
    "fig = plt.figure(dpi=500, figsize=(a4_width, a4_width / 3.5 * 3))\n",
    "\n",
    "cont[nucleon].plot_q_dep(\n",
    "    fig,\n",
    ")  # ylabels=labels[nucleon], legend=True)\n",
    "\n",
    "\n",
    "plt.subplots_adjust(wspace=0.02, hspace=0.02 / 3.5 * 3)\n",
    "\n",
    "plt.show()\n",
    "\n",
    "# fig.savefig(\"err_deut.pdf\", bbox_inches=\"tight\")"
   ]
  },
  {
   "cell_type": "markdown",
   "metadata": {
    "heading_collapsed": true,
    "hidden": true
   },
   "source": [
    "### Errors"
   ]
  },
  {
   "cell_type": "markdown",
   "metadata": {},
   "source": [
    "#### Figure 2: 2H"
   ]
  },
  {
   "cell_type": "code",
   "execution_count": null,
   "metadata": {
    "ExecuteTime": {
     "end_time": "2017-02-27T15:19:55.065652",
     "start_time": "2017-02-27T15:19:55.060704"
    },
    "hidden": true,
    "run_control": {
     "frozen": false,
     "read_only": false
    }
   },
   "outputs": [],
   "source": [
    "d_labels = [\n",
    "    \"$ | \\\\mathcal{{ {F} }}   _{{q^{{(\\mathrm{is})}}}}^{\\\\left(0 \\\\right)} |^2 $\",\n",
    "    \"$ | \\\\mathcal{{ {F} }}   _{{q^{{(\\mathrm{is})}}}}^{\\\\left(0+1\\\\right)} |^2 $\",\n",
    "    \"$ \\\\Delta^{(r)}  $ in %\",\n",
    "    \"$ \\\\Delta^{(2b)} $ in %\",\n",
    "]\n",
    "# d_labels = [\n",
    "#    '$ | \\\\mathcal{{ {F} }}   _{{G}}^{\\\\left(0 \\\\right)} |^2 $',\n",
    "#    '$ | \\\\mathcal{{ {F} }}   _{{G}}^{\\\\left(0 + 3\\\\right)} |^2 $',\n",
    "#    '$ \\\\Delta^{(2b)} $ in %'\n",
    "# ]"
   ]
  },
  {
   "cell_type": "code",
   "execution_count": null,
   "metadata": {
    "ExecuteTime": {
     "end_time": "2017-02-27T15:25:27.234902",
     "start_time": "2017-02-27T15:25:19.944191"
    },
    "hidden": true,
    "run_control": {
     "frozen": false,
     "read_only": false
    },
    "scrolled": false
   },
   "outputs": [],
   "source": [
    "a4_width = 8.3 * 0.9\n",
    "\n",
    "nucleon = \"deut\"\n",
    "\n",
    "fig = plt.figure(dpi=500, figsize=(a4_width, a4_width / 3.5 * 4))\n",
    "\n",
    "cont[nucleon].plot_cut_dep(\n",
    "    fig,\n",
    "    ylabels=d_labels,\n",
    "    legend=False,\n",
    "    NQ=3,\n",
    "    band=[\"n2lo\", \"n3lo\", \"n4lo\"],\n",
    "    band_type=\"average\",\n",
    ")\n",
    "# cont[nucleon].plot_q_dep(fig, ylabels=labels[nucleon], legend=True)\n",
    "\n",
    "\n",
    "plt.subplots_adjust(wspace=0.02, hspace=0.02 / 3.2 * 3)\n",
    "\n",
    "\n",
    "axs = fig.get_axes()\n",
    "\n",
    "ax = axs[1]\n",
    "# ax.set_ylim([-8,1])\n",
    "\n",
    "# ax = axs[6]\n",
    "# ax.set_ylim([-20,30])\n",
    "\n",
    "# leg = axs[8].get_legend()\n",
    "# leg.remove()\n",
    "\n",
    "handles, plt_labels = ax.get_legend_handles_labels()\n",
    "by_label = dict(zip(plt_labels, handles))\n",
    "by_label_sorted = OrderedDict()\n",
    "for key in [u\"NLO\", u\"N$^{2}$LO\", u\"N$^{3}$LO\", u\"N$^{4}$LO\"]:\n",
    "    by_label_sorted[key] = by_label[key]\n",
    "\n",
    "ax = axs[0]\n",
    "leg = ax.legend(\n",
    "    by_label_sorted.values(),\n",
    "    by_label_sorted.keys(),\n",
    "    numpoints=1,\n",
    "    loc=\"best\",\n",
    "    frameon=True,\n",
    ")\n",
    "\n",
    "ax = axs[10]\n",
    "ax.set_ylim([-12, 17])\n",
    "if nucleon == \"he3\":\n",
    "    ax.set_ylim([-5, 5])\n",
    "\n",
    "ax = axs[7]\n",
    "ax.set_ylim([-8, 1])\n",
    "\n",
    "for ax in axs:\n",
    "    ytick_labels = ax.get_yticklabels()\n",
    "    if ytick_labels:\n",
    "        ax.get_yticklabels()[-1].set_visible(False)\n",
    "        ax.get_yticklabels()[0].set_visible(False)\n",
    "\n",
    "plt.show()\n",
    "\n",
    "fig.savefig(\"err_\" + nucleon + \"_q.pdf\", bbox_inches=\"tight\")"
   ]
  },
  {
   "cell_type": "markdown",
   "metadata": {},
   "source": [
    "#### Figure 3: 3He"
   ]
  },
  {
   "cell_type": "code",
   "execution_count": null,
   "metadata": {
    "ExecuteTime": {
     "end_time": "2017-02-27T15:25:27.234902",
     "start_time": "2017-02-27T15:25:19.944191"
    },
    "hidden": true,
    "run_control": {
     "frozen": false,
     "read_only": false
    },
    "scrolled": false
   },
   "outputs": [],
   "source": [
    "a4_width = 8.3 * 0.9\n",
    "\n",
    "nucleon = \"he3\"\n",
    "\n",
    "fig = plt.figure(dpi=500, figsize=(a4_width, a4_width / 3.5 * 4))\n",
    "\n",
    "cont[nucleon].plot_cut_dep(\n",
    "    fig,\n",
    "    ylabels=d_labels,\n",
    "    legend=False,\n",
    "    NQ=3,\n",
    "    band=[\"n2lo\", \"n3lo\", \"n4lo\"],\n",
    "    band_type=\"average\",\n",
    ")\n",
    "# cont[nucleon].plot_q_dep(fig, ylabels=labels[nucleon], legend=True)\n",
    "\n",
    "\n",
    "plt.subplots_adjust(wspace=0.02, hspace=0.02 / 3.2 * 3)\n",
    "\n",
    "\n",
    "axs = fig.get_axes()\n",
    "\n",
    "ax = axs[1]\n",
    "# ax.set_ylim([-8,1])\n",
    "\n",
    "# ax = axs[6]\n",
    "# ax.set_ylim([-20,30])\n",
    "\n",
    "# leg = axs[8].get_legend()\n",
    "# leg.remove()\n",
    "\n",
    "handles, plt_labels = ax.get_legend_handles_labels()\n",
    "by_label = dict(zip(plt_labels, handles))\n",
    "by_label_sorted = OrderedDict()\n",
    "for key in [u\"NLO\", u\"N$^{2}$LO\", u\"N$^{3}$LO\", u\"N$^{4}$LO\"]:\n",
    "    by_label_sorted[key] = by_label[key]\n",
    "\n",
    "ax = axs[0]\n",
    "leg = ax.legend(\n",
    "    by_label_sorted.values(),\n",
    "    by_label_sorted.keys(),\n",
    "    numpoints=1,\n",
    "    loc=\"best\",\n",
    "    frameon=True,\n",
    ")\n",
    "\n",
    "ax = axs[10]\n",
    "ax.set_ylim([-12, 17])\n",
    "if nucleon == \"he3\":\n",
    "    ax.set_ylim([-5, 5])\n",
    "\n",
    "ax = axs[7]\n",
    "ax.set_ylim([-8, 1])\n",
    "\n",
    "for ax in axs:\n",
    "    ytick_labels = ax.get_yticklabels()\n",
    "    if ytick_labels:\n",
    "        ax.get_yticklabels()[-1].set_visible(False)\n",
    "        ax.get_yticklabels()[0].set_visible(False)\n",
    "\n",
    "plt.show()\n",
    "\n",
    "fig.savefig(\"err_\" + nucleon + \"_q.pdf\", bbox_inches=\"tight\")"
   ]
  },
  {
   "cell_type": "markdown",
   "metadata": {
    "heading_collapsed": true,
    "hidden": true
   },
   "source": [
    "### Figure 4"
   ]
  },
  {
   "cell_type": "code",
   "execution_count": null,
   "metadata": {
    "ExecuteTime": {
     "end_time": "2017-02-17T15:33:15.030170",
     "start_time": "2017-02-17T15:33:15.026181"
    },
    "hidden": true,
    "run_control": {
     "frozen": false,
     "read_only": false
    }
   },
   "outputs": [],
   "source": [
    "new_labels = [\n",
    "    \"$ \\\\left| \\\\mathcal{{ {F} }}   _{{q^{{(\\mathrm{is})}}}}^{\\\\left(0 + 1\\\\right)} \\\\right|^2 $\",\n",
    "    \"$ \\\\Delta^{(r)}  $ in %\",\n",
    "    \"$ \\\\Delta^{(2b)} $ in %\",\n",
    "]"
   ]
  },
  {
   "cell_type": "code",
   "execution_count": null,
   "metadata": {
    "ExecuteTime": {
     "end_time": "2017-02-17T15:39:36.153570",
     "start_time": "2017-02-17T15:39:33.446534"
    },
    "hidden": true,
    "run_control": {
     "frozen": false,
     "read_only": false
    },
    "scrolled": false
   },
   "outputs": [],
   "source": [
    "fig = plt.figure(dpi=500, figsize=(a4_width, a4_width / 3.5 * 2))\n",
    "\n",
    "\n",
    "for n_nuc, nucleon in enumerate(nucleons):\n",
    "    cont[nucleon].plot_amplitudes(\n",
    "        fig,\n",
    "        ylabels=new_labels,  # labels[nucleon][1:],\n",
    "        legend=False,\n",
    "        band=[\"n2lo\", \"n3lo\", \"n4lo\"],\n",
    "        row=(n_nuc + 1, 2),\n",
    "        band_type=\"best\",\n",
    "        skip_waves=[\"nijm93-noempot\"],\n",
    "        amp_range=[1, 2, 3],\n",
    "        legend_cols=1,\n",
    "    )\n",
    "\n",
    "    print(nucleon)\n",
    "\n",
    "plt.subplots_adjust(wspace=0.25, hspace=0.04 / 3.5 * 2)\n",
    "\n",
    "axs = fig.get_axes()\n",
    "\n",
    "axs[2].set_ylim([0, 7])\n",
    "\n",
    "axs[0].plot(\n",
    "    q_itp * hbarc,\n",
    "    HFF[\"deut\"].amp(q_itp) ** 2,\n",
    "    \"-\",\n",
    "    marker=\"s\",\n",
    "    label=\"Helm FF\",\n",
    "    markersize=4,\n",
    "    markevery=5,\n",
    "    zorder=-10,\n",
    ")\n",
    "axs[3].plot(\n",
    "    q_itp * hbarc,\n",
    "    HFF[\"he3\"].amp(q_itp) ** 2,\n",
    "    \"-\",\n",
    "    marker=\"s\",\n",
    "    label=\"Helm FF\",\n",
    "    markersize=4,\n",
    "    markevery=5,\n",
    "    zorder=-10,\n",
    ")\n",
    "\n",
    "handles, plt_labels = axs[0].get_legend_handles_labels()\n",
    "by_label = dict(zip(plt_labels, handles))\n",
    "by_label_sorted = OrderedDict()\n",
    "for key in sorted(by_label.keys()):\n",
    "    by_label_sorted[key] = by_label[key]\n",
    "\n",
    "ax = axs[2]\n",
    "# leg = ax.legend(\n",
    "#     by_label_sorted.values(),\n",
    "#     by_label_sorted.keys(),\n",
    "#     numpoints=1,\n",
    "#     loc=\"upper left\",\n",
    "#     bbox_to_anchor=(1.05, 1.0),\n",
    "# )\n",
    "\n",
    "handles, plt_labels = axs[3].get_legend_handles_labels()\n",
    "by_label = dict(zip(plt_labels, handles))\n",
    "by_label_sorted = OrderedDict()\n",
    "for key in sorted(by_label.keys()):\n",
    "    by_label_sorted[key] = by_label[key]\n",
    "ax = axs[5]\n",
    "leg = ax.legend(\n",
    "    by_label_sorted.values(),\n",
    "    by_label_sorted.keys(),\n",
    "    numpoints=1,\n",
    "    loc=\"upper left\",\n",
    "    bbox_to_anchor=(1.05, 2.07),\n",
    ")\n",
    "\n",
    "for ax in axs:\n",
    "    ax.get_yticklabels()[-1].set_visible(False)\n",
    "    ax.get_yticklabels()[0].set_visible(False)\n",
    "\n",
    "ax.get_yticklabels()[-2].set_visible(False)\n",
    "\n",
    "\n",
    "axs[0].set_ylabel(\"$^2H$\")\n",
    "# axs[4].set_ylabel(\"$^3H$\")\n",
    "axs[3].set_ylabel(\"$^3He$\")\n",
    "\n",
    "\n",
    "plt.xlim([0, 190])\n",
    "\n",
    "plt.show()\n",
    "\n",
    "fig.savefig(\"conclusion_quark.pdf\", bbox_inches=\"tight\")"
   ]
  },
  {
   "cell_type": "markdown",
   "metadata": {
    "collapsed": true,
    "run_control": {
     "frozen": false,
     "read_only": false
    }
   },
   "source": [
    "# Logarithmic Interference Plot"
   ]
  },
  {
   "cell_type": "markdown",
   "metadata": {},
   "source": [
    "## Quarks"
   ]
  },
  {
   "cell_type": "code",
   "execution_count": null,
   "metadata": {
    "ExecuteTime": {
     "end_time": "2017-03-31T23:36:46.788746",
     "start_time": "2017-03-31T23:36:39.884316"
    },
    "run_control": {
     "frozen": false,
     "read_only": false
    },
    "scrolled": false
   },
   "outputs": [],
   "source": [
    "pars = gp.parameters(normalized=True)\n",
    "\n",
    "nucleons = [\"deut\", \"he3\"]\n",
    "\n",
    "amps = {}\n",
    "labels = {}\n",
    "cont = {}\n",
    "\n",
    "for nucleon in nucleons:\n",
    "    operators = gp.get_operators(nucleon, parameters=pars)\n",
    "    ams = gp.get_amplitudes(operators, parameters=pars)\n",
    "\n",
    "    amps[nucleon] = list(ams.query(\"sm == 'q'\")[\"val\"])\n",
    "    labels[nucleon] = list(ams.query(\"sm == 'q'\")[\"label\"])\n",
    "    cont[nucleon] = amplitudes.OperatorPlotContainer(amps[nucleon], estimate_type=2)"
   ]
  },
  {
   "cell_type": "code",
   "execution_count": null,
   "metadata": {
    "ExecuteTime": {
     "end_time": "2017-03-31T23:36:46.796641",
     "start_time": "2017-03-31T23:36:46.791473"
    },
    "run_control": {
     "frozen": false,
     "read_only": false
    }
   },
   "outputs": [],
   "source": [
    "A = {\n",
    "    \"deut\": 2,\n",
    "    #'h3'  : 3,\n",
    "    \"he3\": 3,\n",
    "}\n",
    "\n",
    "tex_nuc = {\n",
    "    \"deut\": \"$^2H$\",\n",
    "    #'h3'  : \"$^3H$\",\n",
    "    \"he3\": \"$^3He$\",\n",
    "}"
   ]
  },
  {
   "cell_type": "code",
   "execution_count": null,
   "metadata": {
    "ExecuteTime": {
     "end_time": "2017-03-31T23:36:47.109324",
     "start_time": "2017-03-31T23:36:46.799077"
    },
    "run_control": {
     "frozen": false,
     "read_only": false
    }
   },
   "outputs": [],
   "source": [
    "nucleon = \"he3\"\n",
    "\n",
    "dops = gp.get_operators(nucleon, parameters=pars)\n",
    "for label, op in dops.items():\n",
    "    print(label)"
   ]
  },
  {
   "cell_type": "markdown",
   "metadata": {},
   "source": [
    "<div class=\"container\">\n",
    "  <h2>Operator encoding table</h2>\n",
    "  <p>I have listed which operator corresponds to which quantity</p>            \n",
    "  <table class=\"table table-hover\">\n",
    "    <thead>\n",
    "      <tr>\n",
    "        <th>$ \\texttt{O_type} $</th>\n",
    "        <th>$\\mathcal O$</th>\n",
    "        <th>Magnitude</th>\n",
    "      </tr>\n",
    "    </thead>\n",
    "    <tbody>\n",
    "      <tr>\n",
    "        <td>O1</td>\n",
    "        <td>$LO$ scalar</td>\n",
    "        <td>1</td>\n",
    "      </tr>\n",
    "      <tr>\n",
    "        <td>O2</td>\n",
    "        <td>$LO$ isovector</td>\n",
    "        <td>5%</td>\n",
    "      </tr>\n",
    "      <tr>\n",
    "        <td>O3</td>\n",
    "        <td>$NLO$ $q^2$</td>\n",
    "        <td>0 - 1%</td>\n",
    "      </tr>\n",
    "      <tr>\n",
    "        <td>O4</td>\n",
    "        <td>$NLO$ pion</td>\n",
    "        <td>?</td>\n",
    "      </tr>\n",
    "      <tr>\n",
    "        <td>O12</td>\n",
    "        <td>$LO$ isoscalar-isovector</td>\n",
    "        <td>1</td>\n",
    "      </tr>\n",
    "      <tr>\n",
    "        <td>O13</td>\n",
    "        <td>$NLO$ scalar-$q^2$</td>\n",
    "        <td>0 - 1%</td>\n",
    "      </tr>\n",
    "      <tr>\n",
    "        <td>O14</td>\n",
    "        <td>$NLO$ scalar-pion</td>\n",
    "        <td>?</td>\n",
    "      </tr>\n",
    "    </tbody>\n",
    "  </table>\n",
    "</div>"
   ]
  },
  {
   "cell_type": "code",
   "execution_count": null,
   "metadata": {
    "ExecuteTime": {
     "end_time": "2017-03-31T23:36:52.824262",
     "start_time": "2017-03-31T23:36:47.111526"
    },
    "run_control": {
     "frozen": false,
     "read_only": false
    }
   },
   "outputs": [],
   "source": [
    "cont = {}\n",
    "\n",
    "for nucleon in nucleons:\n",
    "    dops = gp.get_operators(nucleon, parameters=pars)\n",
    "\n",
    "    o1 = dops[\"scalar\"]\n",
    "    o2 = dops[\"tau3\"]\n",
    "    o3 = dops[\"2-pion-q\"]\n",
    "    o4 = dops[\"scalar_q2\"]\n",
    "\n",
    "    o12 = o1 + o2\n",
    "    o12 = o12.get_amp_difference(o1, relative=False).get_amp_difference(\n",
    "        o2, relative=False\n",
    "    )\n",
    "    o13 = o1 + o3\n",
    "    o13 = o13.get_amp_difference(o1, relative=False).get_amp_difference(\n",
    "        o3, relative=False\n",
    "    )\n",
    "    o14 = o1 + o4\n",
    "    o14 = o14.get_amp_difference(o1, relative=False).get_amp_difference(\n",
    "        o4, relative=False\n",
    "    )\n",
    "\n",
    "    ops = OrderedDict()\n",
    "    ops[r\"$\\left|\\mathcal{F}_{q^{(\\mathrm{is})   }}^{\\left(0 \\right)}\\right|^2$\"] = o1\n",
    "    ops[\n",
    "        r\"$\\left|\\mathcal{F}_{q^{(\\mathrm{is})   }}^{\\left(0 \\right)} {-} \\mathcal{F}_{q^{(\\mathrm{iv})   }}^{\\left(0 \\right)}\\right|$\"\n",
    "    ] = o12\n",
    "    ops[\n",
    "        r\"$\\left|\\mathcal{F}_{q^{(\\mathrm{is})   }}^{\\left(0 \\right)} {-} \\mathcal{F}_{q^{(\\mathrm{is})},2b}^{\\left(1\\right)}\\right|$\"\n",
    "    ] = o13\n",
    "    ops[\n",
    "        r\"$\\left|\\mathcal{F}_{q^{(\\mathrm{is})   }}^{\\left(0 \\right)} {-} \\mathcal{F}_{q^{(\\mathrm{is})}, r}^{\\left(1\\right)}\\right|$\"\n",
    "    ] = o14\n",
    "    ops[r\"$\\left|\\mathcal{F}_{q^{(\\mathrm{iv})   }}^{\\left(1\\right)}\\right|^2$\"] = o2\n",
    "    ops[r\"$\\left|\\mathcal{F}_{q^{(\\mathrm{is})},2b}^{\\left(1\\right)}\\right|^2$\"] = o3\n",
    "    ops[r\"$\\left|\\mathcal{F}_{q^{(\\mathrm{is})}, r}^{\\left(1\\right)}\\right|^2$\"] = o4\n",
    "\n",
    "    for key, op in ops.items():\n",
    "        print(key, np.sum(op.amp_frame.amp))\n",
    "        if np.sum(op.amp_frame.amp) < 0:\n",
    "            op.amp_frame.loc[:, \"amp\"] *= -1\n",
    "            ops[key] = op\n",
    "\n",
    "    cont[nucleon] = amplitudes.OperatorPlotContainer(ops.values(), estimate_type=2)\n",
    "\n",
    "    cont[nucleon].phen_colors = sns.color_palette(\"hls\", 8).as_hex()\n",
    "\n",
    "    labels = ops.keys()"
   ]
  },
  {
   "cell_type": "code",
   "execution_count": null,
   "metadata": {
    "ExecuteTime": {
     "end_time": "2017-03-31T23:42:49.131233",
     "start_time": "2017-03-31T23:42:49.125850"
    }
   },
   "outputs": [],
   "source": [
    "color = sns.color_palette(\"dark\", 5)\n",
    "color.pop(3)"
   ]
  },
  {
   "cell_type": "markdown",
   "metadata": {},
   "source": [
    "### Fig 6"
   ]
  },
  {
   "cell_type": "code",
   "execution_count": null,
   "metadata": {
    "ExecuteTime": {
     "end_time": "2017-03-31T23:43:26.908773",
     "start_time": "2017-03-31T23:43:26.597638"
    },
    "run_control": {
     "frozen": false,
     "read_only": false
    }
   },
   "outputs": [],
   "source": [
    "sns.set(font=\"Source Sans Pro\", style=\"ticks\", font_scale=2.2)\n",
    "sns.set_style({\"xtick.direction\": \"in\", \"ytick.direction\": \"in\"})\n",
    "\n",
    "fig = plt.figure(figsize=(a4_width, a4_width / 2), dpi=500)\n",
    "\n",
    "for n_nuc, nucleon in enumerate(nucleons):\n",
    "    leg = False\n",
    "    if n_nuc == 1:\n",
    "        leg = True\n",
    "    cont[nucleon].phen_colors = color[::-1]\n",
    "    cont[nucleon].plot_amplitudes(\n",
    "        fig,\n",
    "        ylabels=list(labels),\n",
    "        amp_range=[0, 1, 2, 3],\n",
    "        one_frame=True,\n",
    "        band=[\"n2lo\"],\n",
    "        phenemenological=False,\n",
    "        legend=leg,\n",
    "        # upper_bound_only=True,\n",
    "        row=(n_nuc + 1, 2),\n",
    "        band_type=\"best\",\n",
    "    )\n",
    "    ax = fig.gca()\n",
    "    ax.set_yscale(\"log\")\n",
    "    ax.set_ylim(1.e-3, 1.2e0)\n",
    "    "
   ]
  },
  {
   "cell_type": "code",
   "execution_count": null,
   "metadata": {
    "ExecuteTime": {
     "end_time": "2017-03-31T23:43:27.063200",
     "start_time": "2017-03-31T23:43:27.039641"
    },
    "run_control": {
     "frozen": false,
     "read_only": false
    }
   },
   "outputs": [],
   "source": [
    "axs = fig.get_axes()\n",
    "\n",
    "axs[0].set_ylabel(\"$| \\mathcal{F} \\ |^2$\")\n",
    "\n",
    "for n_nuc, (nuc, ax) in enumerate(zip(nucleons, axs)):\n",
    "    ax.set_yscale(\"log\")\n",
    "    ax.set_ylim([1.0e-3, 1.5])\n",
    "    ax.set_xlim([0, 110])\n",
    "    ax.set_title(tex_nuc[nuc])\n",
    "\n",
    "    if n_nuc > 0:\n",
    "        [el.set_visible(False) for el in ax.get_yticklabels()]\n",
    "\n",
    "plt.subplots_adjust(wspace=0.02)"
   ]
  },
  {
   "cell_type": "code",
   "execution_count": null,
   "metadata": {
    "ExecuteTime": {
     "end_time": "2017-03-31T23:43:29.242025",
     "start_time": "2017-03-31T23:43:27.964228"
    },
    "run_control": {
     "frozen": false,
     "read_only": false
    }
   },
   "outputs": [],
   "source": [
    "plt.show()"
   ]
  },
  {
   "cell_type": "code",
   "execution_count": null,
   "metadata": {
    "ExecuteTime": {
     "end_time": "2017-03-31T23:43:37.753844",
     "start_time": "2017-03-31T23:43:36.716014"
    },
    "run_control": {
     "frozen": false,
     "read_only": false
    }
   },
   "outputs": [],
   "source": [
    "fig.savefig(\"logplots_quarks_n2lo.pdf\", bbox_inches=\"tight\")"
   ]
  },
  {
   "cell_type": "markdown",
   "metadata": {
    "heading_collapsed": true
   },
   "source": [
    "## Gluons"
   ]
  },
  {
   "cell_type": "code",
   "execution_count": null,
   "metadata": {
    "ExecuteTime": {
     "end_time": "2017-02-13T09:51:20.849963",
     "start_time": "2017-02-13T09:51:13.498274"
    },
    "hidden": true,
    "run_control": {
     "frozen": false,
     "read_only": false
    },
    "scrolled": false
   },
   "outputs": [],
   "source": [
    "pars = gp.parameters(self_normalized=True)\n",
    "\n",
    "nucleons = [\"deut\", \"h3\", \"he3\"]\n",
    "\n",
    "amps = {}\n",
    "labels = {}\n",
    "cont = {}\n",
    "\n",
    "for nucleon in nucleons:\n",
    "    operators = gp.get_operators(nucleon, parameters=pars)\n",
    "\n",
    "    ams = gp.get_amplitudes(operators, parameters=pars)\n",
    "\n",
    "    amps[nucleon] = list(ams.query(\"sm == 'g'\")[\"val\"])\n",
    "    labels[nucleon] = list(ams.query(\"sm == 'g'\")[\"label\"])\n",
    "    cont[nucleon] = amplitudes.OperatorPlotContainer(amps[nucleon], estimate_type=2)"
   ]
  },
  {
   "cell_type": "code",
   "execution_count": null,
   "metadata": {
    "ExecuteTime": {
     "end_time": "2017-02-13T09:51:20.866759",
     "start_time": "2017-02-13T09:51:20.858914"
    },
    "hidden": true,
    "run_control": {
     "frozen": false,
     "read_only": false
    }
   },
   "outputs": [],
   "source": [
    "A = {\n",
    "    \"deut\": 2,\n",
    "    \"h3\": 3,\n",
    "    \"he3\": 3,\n",
    "}\n",
    "\n",
    "tex_nuc = {\n",
    "    \"deut\": \"$^2H$\",\n",
    "    \"h3\": \"$^3H$\",\n",
    "    \"he3\": \"$^3He$\",\n",
    "}"
   ]
  },
  {
   "cell_type": "code",
   "execution_count": null,
   "metadata": {
    "ExecuteTime": {
     "end_time": "2017-02-13T09:51:21.160465",
     "start_time": "2017-02-13T09:51:20.874298"
    },
    "hidden": true,
    "run_control": {
     "frozen": false,
     "read_only": false
    }
   },
   "outputs": [],
   "source": [
    "nucleon = 'he3'\n",
    "\n",
    "dops = gp.get_operators(nucleon, parameters=pars)\n",
    "for label, op in dops.items():\n",
    "    print(label)"
   ]
  },
  {
   "cell_type": "markdown",
   "metadata": {
    "hidden": true
   },
   "source": [
    "<div class=\"container\">\n",
    "  <h2>Operator encoding table</h2>\n",
    "  <p>I have listed which operator corresponds to which quantity</p>            \n",
    "  <table class=\"table table-hover\">\n",
    "    <thead>\n",
    "      <tr>\n",
    "        <th>$ \\texttt{O_type} $</th>\n",
    "        <th>$\\mathcal O$</th>\n",
    "        <th>Magnitude</th>\n",
    "      </tr>\n",
    "    </thead>\n",
    "    <tbody>\n",
    "      <tr>\n",
    "        <td>O1</td>\n",
    "        <td>$LO$ scalar</td>\n",
    "        <td>1</td>\n",
    "      </tr>\n",
    "      <tr>\n",
    "        <td>O2</td>\n",
    "        <td>$LO$ isovector</td>\n",
    "        <td>5%</td>\n",
    "      </tr>\n",
    "      <tr>\n",
    "        <td>O3</td>\n",
    "        <td>$NLO$ $q^2$</td>\n",
    "        <td>0 - 1%</td>\n",
    "      </tr>\n",
    "      <tr>\n",
    "        <td>O4</td>\n",
    "        <td>$NLO$ pion</td>\n",
    "        <td>?</td>\n",
    "      </tr>\n",
    "      <tr>\n",
    "        <td>O12</td>\n",
    "        <td>$LO$ isoscalar-isovector</td>\n",
    "        <td>1</td>\n",
    "      </tr>\n",
    "      <tr>\n",
    "        <td>O13</td>\n",
    "        <td>$NLO$ scalar-$q^2$</td>\n",
    "        <td>0 - 1%</td>\n",
    "      </tr>\n",
    "      <tr>\n",
    "        <td>O14</td>\n",
    "        <td>$NLO$ scalar-pion</td>\n",
    "        <td>?</td>\n",
    "      </tr>\n",
    "    </tbody>\n",
    "  </table>\n",
    "</div>"
   ]
  },
  {
   "cell_type": "code",
   "execution_count": null,
   "metadata": {
    "ExecuteTime": {
     "end_time": "2017-02-13T09:51:27.717612",
     "start_time": "2017-02-13T09:51:23.408931"
    },
    "hidden": true,
    "run_control": {
     "frozen": false,
     "read_only": false
    }
   },
   "outputs": [],
   "source": [
    "cont = {}\n",
    "\n",
    "for nucleon in nucleons:\n",
    "    dops = gp.get_operators(nucleon, parameters=pars)\n",
    "\n",
    "    o1 = dops[\"scalar-g\"]\n",
    "    o2 = dops[\"2-pion-g\"]\n",
    "\n",
    "    o12 = o1 + o2\n",
    "    o12 = o12.get_amp_difference(o1, relative=False).get_amp_difference(\n",
    "        o2, relative=False\n",
    "    )\n",
    "\n",
    "    ops = OrderedDict()\n",
    "    ops[r\"$\\mathcal{F}_{G}^{(\\mathrm{LO})}    $\"] = o1\n",
    "    ops[\n",
    "        r\"$\\mathcal{F}_{G}^{(\\mathrm{LO})}    $-$\\mathcal{F}_{G, 2b}^{(\\mathrm{N^3LO} )}$\"\n",
    "    ] = o12\n",
    "    ops[r\"$\\mathcal{F}_{G, 2b}^{(\\mathrm{N^3LO} )}$\"] = o2\n",
    "\n",
    "    for key, op in ops.items():\n",
    "        print(key, np.sum(op.amp_frame.amp))\n",
    "        if np.sum(op.amp_frame.amp) < 0:\n",
    "            op.amp_frame.loc[:, \"amp\"] *= -1\n",
    "            ops[key] = op\n",
    "\n",
    "    cont[nucleon] = amplitudes.OperatorPlotContainer(ops.values(), estimate_type=2)\n",
    "\n",
    "    cont[nucleon].phen_colors = sns.color_palette(\"hls\", 8).as_hex()\n",
    "\n",
    "    labels = ops.keys()"
   ]
  },
  {
   "cell_type": "code",
   "execution_count": null,
   "metadata": {
    "ExecuteTime": {
     "end_time": "2017-02-17T15:41:42.020137",
     "start_time": "2017-02-17T15:41:41.484932"
    },
    "hidden": true,
    "run_control": {
     "frozen": false,
     "read_only": false
    }
   },
   "outputs": [],
   "source": [
    "fig = plt.figure(figsize=(a4_width, a4_width / 3), dpi=500)\n",
    "\n",
    "for n_nuc, nucleon in enumerate(nucleons):\n",
    "    leg = False\n",
    "    if n_nuc == 2:\n",
    "        leg = True\n",
    "    cont[nucleon].phen_colors = sns.color_palette(n_colors=10)\n",
    "    cont[nucleon].plot_amplitudes(\n",
    "        fig,\n",
    "        ylabels=labels,\n",
    "        one_frame=True,\n",
    "        band=[\"n3lo\"],\n",
    "        phenemenological=False,\n",
    "        legend=leg,\n",
    "        upper_bound_only=True,\n",
    "        row=(n_nuc + 1, 3),\n",
    "    )"
   ]
  },
  {
   "cell_type": "code",
   "execution_count": null,
   "metadata": {
    "ExecuteTime": {
     "end_time": "2017-02-17T15:41:42.632155",
     "start_time": "2017-02-17T15:41:42.604920"
    },
    "hidden": true,
    "run_control": {
     "frozen": false,
     "read_only": false
    }
   },
   "outputs": [],
   "source": [
    "axs = fig.get_axes()\n",
    "\n",
    "axs[0].set_ylabel(\"$| \\mathcal{F} \\ |^2 / A^2$\")\n",
    "\n",
    "for n_nuc, (nuc, ax) in enumerate(zip(nucleons, axs)):\n",
    "    ax.set_yscale(\"log\")\n",
    "    ax.set_ylim([1.0e-6, 1.5])\n",
    "    ax.set_xlim([0, 110])\n",
    "    ax.set_title(tex_nuc[nuc])\n",
    "\n",
    "    if n_nuc > 0:\n",
    "        [el.set_visible(False) for el in ax.get_yticklabels()]\n",
    "\n",
    "plt.subplots_adjust(wspace=0.02)"
   ]
  },
  {
   "cell_type": "code",
   "execution_count": null,
   "metadata": {
    "ExecuteTime": {
     "end_time": "2017-02-17T15:41:44.429233",
     "start_time": "2017-02-17T15:41:43.027428"
    },
    "hidden": true,
    "run_control": {
     "frozen": false,
     "read_only": false
    }
   },
   "outputs": [],
   "source": [
    "fig"
   ]
  },
  {
   "cell_type": "code",
   "execution_count": null,
   "metadata": {
    "ExecuteTime": {
     "end_time": "2017-02-01T16:07:34.695258",
     "start_time": "2017-02-01T16:07:33.534665"
    },
    "hidden": true,
    "run_control": {
     "frozen": false,
     "read_only": false
    }
   },
   "outputs": [],
   "source": [
    "# fig.savefig(\"logplots_gluons_n3lo.pdf\", bbox_inches=\"tight\")"
   ]
  },
  {
   "cell_type": "markdown",
   "metadata": {},
   "source": [
    "# Cancelation Plots"
   ]
  },
  {
   "cell_type": "markdown",
   "metadata": {},
   "source": [
    "## Amplitude Plot"
   ]
  },
  {
   "cell_type": "code",
   "execution_count": null,
   "metadata": {
    "ExecuteTime": {
     "end_time": "2017-03-27T10:28:59.327905",
     "start_time": "2017-03-27T10:28:55.686005"
    },
    "run_control": {
     "frozen": false,
     "read_only": false
    },
    "scrolled": false
   },
   "outputs": [],
   "source": [
    "pars = gp.parameters(self_normalized=True, isoscalar_only=True)\n",
    "\n",
    "nucleons = [\"deut\", \"he3\"]\n",
    "\n",
    "amps = {}\n",
    "labels = {}\n",
    "cont = {}\n",
    "r = {}\n",
    "# get pre factors\n",
    "\n",
    "\n",
    "for nucleon in nucleons:\n",
    "    operators = gp.get_operators(nucleon, parameters=pars, ci=(1, 1, 1))\n",
    "\n",
    "    ams = gp.get_amplitudes(operators, parameters=pars, adjust_g_q_piece=True)\n",
    "    ams.set_index([\"sm\", \"chi\", \"type\"], inplace=True)\n",
    "\n",
    "    glo = ams.loc[(\"g\", \"lo\", \"amp\"), \"val\"]\n",
    "    qlo = ams.loc[(\"q\", \"lo\", \"amp\"), \"val\"]\n",
    "    gnlo = ams.loc[(\"g\", \"nlo\", \"amp\"), \"val\"]\n",
    "    qnlo = ams.loc[(\"q\", \"nlo\", \"amp\"), \"val\"]\n",
    "\n",
    "    qlo0 = qlo.frame.loc[0, \"mat\"]\n",
    "    glo0 = glo.frame.loc[0, \"mat\"]\n",
    "    qnlo0 = qnlo.frame.loc[0, \"mat\"]\n",
    "\n",
    "    eqs = ((qnlo0 - S(\"a\") * glo0) / (-S(\"a\") * glo0 + qlo0)) ** 2 - 1.5\n",
    "    sol = np.sqrt(float(solve(eqs)[0]))\n",
    "\n",
    "    # sol = -1\n",
    "\n",
    "    r[nucleon] = sol\n",
    "\n",
    "    print(sol)\n",
    "\n",
    "    fact_g = -sol\n",
    "    fact_q = 1  # .5 np.sqrt(.05)/10 -1\n",
    "\n",
    "    glo *= fact_g\n",
    "    qlo *= fact_q\n",
    "    gnlo *= fact_g\n",
    "    qnlo *= fact_q\n",
    "\n",
    "    tlo = glo + qlo\n",
    "    tnlo = qnlo + glo\n",
    "    tn3lo = qnlo + gnlo\n",
    "\n",
    "    amps[nucleon] = [tlo, tnlo, tn3lo]\n",
    "    cont[nucleon] = amplitudes.OperatorPlotContainer(amps[nucleon], estimate_type=2)"
   ]
  },
  {
   "cell_type": "code",
   "execution_count": null,
   "metadata": {
    "ExecuteTime": {
     "end_time": "2017-03-27T10:28:59.333209",
     "start_time": "2017-03-27T10:28:59.329829"
    },
    "run_control": {
     "frozen": false,
     "read_only": false
    }
   },
   "outputs": [],
   "source": [
    "labels = [\n",
    "    \"$ {\\\\left| \\\\mathcal{{ {F} }}   _{{q^{{(\\mathrm{is})}} +G  }}^{(0)} \\\\right|}^2 $\",\n",
    "    \"$ \\\\left| \\\\mathcal{{ {F} }}   _{{q^{{(\\mathrm{is})}} +G}}^{(0+1)} \\\\right|^2 $\",\n",
    "    \"$ \\\\left| \\\\mathcal{{ {F} }}   _{{q^{{(\\mathrm{is})}} +G}}^{(0+1+3)} \\\\right|^2 $\",\n",
    "]"
   ]
  },
  {
   "cell_type": "code",
   "execution_count": null,
   "metadata": {
    "ExecuteTime": {
     "end_time": "2017-03-27T10:28:59.340278",
     "start_time": "2017-03-27T10:28:59.336520"
    },
    "run_control": {
     "frozen": false,
     "read_only": false
    }
   },
   "outputs": [],
   "source": [
    "fig = plt.figure(dpi=500, figsize=(a4_width, a4_width / 2 * 2))"
   ]
  },
  {
   "cell_type": "code",
   "execution_count": null,
   "metadata": {
    "ExecuteTime": {
     "end_time": "2017-03-27T10:28:59.743986",
     "start_time": "2017-03-27T10:28:59.343309"
    },
    "run_control": {
     "frozen": false,
     "read_only": false
    }
   },
   "outputs": [],
   "source": [
    "cont[\"deut\"].phen_colors = [\n",
    "    sns.color_palette()[1],\n",
    "    sns.color_palette()[0],\n",
    "    sns.color_palette()[2],\n",
    "]\n",
    "cont[\"deut\"].plot_amplitudes(\n",
    "    fig,\n",
    "    ylabels=labels,\n",
    "    legend=False,\n",
    "    band=[\"n2lo\"],\n",
    "    row=(2, 2, 1),\n",
    "    band_type=2,\n",
    "    phenemenological=False,\n",
    "    one_frame=True,\n",
    "    skip_waves=[\"nijm93-noempot\"],\n",
    "    amp_range=[0, 1, 2],\n",
    "    legend_cols=1,\n",
    "    cut_at_zero=True,\n",
    ")\n",
    "cont[\"deut\"].plot_amplitudes(\n",
    "    fig,\n",
    "    ylabels=labels,\n",
    "    legend=False,\n",
    "    band=[\"n3lo\"],\n",
    "    row=(2, 2, 2),\n",
    "    band_type=2,\n",
    "    phenemenological=False,\n",
    "    one_frame=True,\n",
    "    skip_waves=[\"nijm93-noempot\"],\n",
    "    amp_range=[0, 1, 2],\n",
    "    legend_cols=1,\n",
    "    cut_at_zero=True,\n",
    ")\n",
    "\n",
    "\n",
    "cont[\"he3\"].phen_colors = [\n",
    "    sns.color_palette()[1],\n",
    "    sns.color_palette()[0],\n",
    "    sns.color_palette()[2],\n",
    "]\n",
    "cont[\"he3\"].plot_amplitudes(\n",
    "    fig,\n",
    "    ylabels=labels,\n",
    "    legend=False,\n",
    "    band=[\"n2lo\"],\n",
    "    row=(2, 2, 3),\n",
    "    band_type=2,\n",
    "    phenemenological=False,\n",
    "    one_frame=True,\n",
    "    skip_waves=[\"nijm93-noempot\"],\n",
    "    amp_range=[0, 1, 2],\n",
    "    legend_cols=1,\n",
    "    cut_at_zero=True,\n",
    ")\n",
    "cont[\"he3\"].plot_amplitudes(\n",
    "    fig,\n",
    "    ylabels=labels,\n",
    "    legend=False,\n",
    "    band=[\"n4lo\"],\n",
    "    row=(2, 2, 4),\n",
    "    band_type=2,\n",
    "    phenemenological=False,\n",
    "    one_frame=True,\n",
    "    skip_waves=[\"nijm93-noempot\"],\n",
    "    amp_range=[0, 1, 2],\n",
    "    legend_cols=1,\n",
    "    cut_at_zero=True,\n",
    ")"
   ]
  },
  {
   "cell_type": "code",
   "execution_count": null,
   "metadata": {
    "ExecuteTime": {
     "end_time": "2017-03-27T10:28:59.815913",
     "start_time": "2017-03-27T10:28:59.746152"
    },
    "run_control": {
     "frozen": false,
     "read_only": false
    }
   },
   "outputs": [],
   "source": [
    "axs = fig.get_axes()\n",
    "\n",
    "axs[0].set_ylabel(\"$^2H$\\n $r = {r:1.4f}$\".format(r=-r[\"deut\"]))\n",
    "axs[2].set_ylabel(\"$^3He$\\n $r = {r:1.4f}$\".format(r=-r[\"he3\"]))\n",
    "\n",
    "axs[0].set_title(\"N$^2$LO Waves\\n\")\n",
    "axs[1].set_title(\"N$^3$LO Waves\\n\")\n",
    "\n",
    "for nax, ax in enumerate(axs):\n",
    "    ax.set_xlim([0, 115])\n",
    "\n",
    "    if nax in [0, 1]:\n",
    "        ax.set_ylim([0, 0.0025])\n",
    "        # ax.set_ylim([2.7,4.3])\n",
    "        for xticklabel in ax.get_xticklabels():\n",
    "            xticklabel.set_visible(False)\n",
    "        ax.set_xlabel(\"\")\n",
    "\n",
    "    if nax in [2, 3]:\n",
    "        # ax.set_ylim([2.7,4.1])\n",
    "        ax.set_ylim([0, 0.0001])\n",
    "    if nax in [1, 3]:\n",
    "        for yticklabel in ax.get_yticklabels():\n",
    "            yticklabel.set_visible(False)\n",
    "\n",
    "\n",
    "axs[2].get_yticklabels()[-1].set_visible(False)\n",
    "\n",
    "\n",
    "axs[3].legend(loc=\"best\", frameon=True)\n",
    "\n",
    "plt.subplots_adjust(wspace=0.02, hspace=0.02 / 2 * 2)"
   ]
  },
  {
   "cell_type": "markdown",
   "metadata": {},
   "source": [
    "## Fig 7"
   ]
  },
  {
   "cell_type": "code",
   "execution_count": null,
   "metadata": {
    "ExecuteTime": {
     "end_time": "2017-03-27T10:29:00.824611",
     "start_time": "2017-03-27T10:28:59.817689"
    },
    "run_control": {
     "frozen": false,
     "read_only": false
    }
   },
   "outputs": [],
   "source": [
    "fig"
   ]
  },
  {
   "cell_type": "code",
   "execution_count": null,
   "metadata": {
    "ExecuteTime": {
     "end_time": "2017-03-27T10:29:02.025900",
     "start_time": "2017-03-27T10:29:00.828893"
    },
    "run_control": {
     "frozen": false,
     "read_only": false
    }
   },
   "outputs": [],
   "source": [
    "fig.savefig(\"fine_tuning_50_mg.pdf\", bbox_inches=\"tight\")"
   ]
  }
 ],
 "metadata": {
  "celltoolbar": "Initialisation Cell",
  "kernelspec": {
   "display_name": "Python 3 (ipykernel)",
   "language": "python",
   "name": "python3"
  },
  "language_info": {
   "codemirror_mode": {
    "name": "ipython",
    "version": 3
   },
   "file_extension": ".py",
   "mimetype": "text/x-python",
   "name": "python",
   "nbconvert_exporter": "python",
   "pygments_lexer": "ipython3",
   "version": "3.9.5"
  },
  "latex_envs": {
   "bibliofile": "biblio.bib",
   "cite_by": "apalike",
   "current_citInitial": 1,
   "eqLabelWithNumbers": true,
   "eqNumInitial": 0
  }
 },
 "nbformat": 4,
 "nbformat_minor": 1
}
